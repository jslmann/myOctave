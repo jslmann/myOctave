{
 "cells": [
  {
   "cell_type": "code",
   "execution_count": 32,
   "metadata": {
    "collapsed": false
   },
   "outputs": [
    {
     "name": "stdout",
     "output_type": "stream",
     "text": [
      "Created file '/Users/jlatmann/Programming/octave/machine-learning-ex8/ex8/estimateGaussian.m'.\n"
     ]
    }
   ],
   "source": [
    "%%file estimateGaussian.m\n",
    "function [mu sigma2] = estimateGaussian(X)\n",
    "%ESTIMATEGAUSSIAN This function estimates the parameters of a \n",
    "%Gaussian distribution using the data in X\n",
    "%   [mu sigma2] = estimateGaussian(X), \n",
    "%   The input X is the dataset with each n-dimensional data point in one row\n",
    "%   The output is an n-dimensional vector mu, the mean of the data set\n",
    "%   and the variances sigma^2, an n x 1 vector\n",
    "% \n",
    "\n",
    "% Useful variables\n",
    "[m, n] = size(X);\n",
    "\n",
    "% You should return these values correctly\n",
    "mu = zeros(n, 1);\n",
    "sigma2 = zeros(n, 1);\n",
    "\n",
    "% ====================== YOUR CODE HERE ======================\n",
    "% Instructions: Compute the mean of the data and the variances\n",
    "%               In particular, mu(i) should contain the mean of\n",
    "%               the data for the i-th feature and sigma2(i)\n",
    "%               should contain variance of the i-th feature.\n",
    "%\n",
    "\n",
    "mu = sum(X)/m\n",
    "sigma2 = sum((X-mu).^2)/m\n",
    "% =============================================================\n",
    "\n",
    "end\n"
   ]
  },
  {
   "cell_type": "code",
   "execution_count": null,
   "metadata": {
    "collapsed": false
   },
   "outputs": [],
   "source": [
    "%%file selectThreshold.m\n",
    "function [bestEpsilon bestF1] = selectThreshold(yval, pval)\n",
    "%SELECTTHRESHOLD Find the best threshold (epsilon) to use for selecting\n",
    "%outliers\n",
    "%   [bestEpsilon bestF1] = SELECTTHRESHOLD(yval, pval) finds the best\n",
    "%   threshold to use for selecting outliers based on the results from a\n",
    "%   validation set (pval) and the ground truth (yval).\n",
    "%\n",
    "\n",
    "bestEpsilon = 0;\n",
    "bestF1 = 0;\n",
    "F1 = 0;\n",
    "\n",
    "stepsize = (max(pval) - min(pval)) / 1000;\n",
    "for epsilon = min(pval):stepsize:max(pval)\n",
    "    \n",
    "    % ====================== YOUR CODE HERE ======================\n",
    "    % Instructions: Compute the F1 score of choosing epsilon as the\n",
    "    %               threshold and place the value in F1. The code at the\n",
    "    %               end of the loop will compare the F1 score for this\n",
    "    %               choice of epsilon and set it to be the best epsilon if\n",
    "    %               it is better than the current choice of epsilon.\n",
    "    %               \n",
    "    % Note: You can use predictions = (pval < epsilon) to get a binary vector\n",
    "    %       of 0's and 1's of the outlier predictions\n",
    "\n",
    "\n",
    "p = pval < epsilon;\n",
    "tp = yval' * p ;\n",
    "fp = (1 - yval)' * p;\n",
    "tn = (1-yval)' * (1-p);\n",
    "fn = yval' * (1-p);\n",
    "if (tp+fp)>0 \n",
    "    prec = tp ./ (tp+fp);\n",
    "    if (tp+fn>0)\n",
    "        rec = tp ./ (tp+fn);\n",
    "        F1 = 2*prec*rec / (prec + rec);\n",
    "    end\n",
    "end\n",
    "    % =============================================================\n",
    "\n",
    "    if F1 > bestF1\n",
    "       bestF1 = F1;\n",
    "       bestEpsilon = epsilon;\n",
    "    end\n",
    "end\n",
    "\n",
    "end\n"
   ]
  },
  {
   "cell_type": "code",
   "execution_count": 31,
   "metadata": {
    "collapsed": false
   },
   "outputs": [
    {
     "name": "stdout",
     "output_type": "stream",
     "text": [
      "Created file '/Users/jlatmann/Programming/octave/machine-learning-ex8/ex8/cofiCostFunc.m'.\n"
     ]
    }
   ],
   "source": [
    "%%file cofiCostFunc.m\n",
    "function [J, grad] = cofiCostFunc(params, Y, R, num_users, num_movies, ...\n",
    "                                  num_features, lambda)\n",
    "%COFICOSTFUNC Collaborative filtering cost function\n",
    "%   [J, grad] = COFICOSTFUNC(params, Y, R, num_users, num_movies, ...\n",
    "%   num_features, lambda) returns the cost and gradient for the\n",
    "%   collaborative filtering problem.\n",
    "%\n",
    "\n",
    "% Unfold the U and W matrices from params\n",
    "X = reshape(params(1:num_movies*num_features), num_movies, num_features);\n",
    "Theta = reshape(params(num_movies*num_features+1:end), ...\n",
    "                num_users, num_features);\n",
    "\n",
    "            \n",
    "% You need to return the following values correctly\n",
    "J = 0;\n",
    "X_grad = zeros(size(X));\n",
    "Theta_grad = zeros(size(Theta));\n",
    "\n",
    "% ====================== YOUR CODE HERE ======================\n",
    "% Instructions: Compute the cost function and gradient for collaborative\n",
    "%               filtering. Concretely, you should first implement the cost\n",
    "%               function (without regularization) and make sure it is\n",
    "%               matches our costs. After that, you should implement the \n",
    "%               gradient and use the checkCostFunction routine to check\n",
    "%               that the gradient is correct. Finally, you should implement\n",
    "%               regularization.\n",
    "%\n",
    "% Notes: X - num_movies  x num_features matrix of movie features\n",
    "%        Theta - num_users  x num_features matrix of user features\n",
    "%        Y - num_movies x num_users matrix of user ratings of movies\n",
    "%        R - num_movies x num_users matrix, where R(i, j) = 1 if the \n",
    "%            i-th movie was rated by the j-th user\n",
    "%\n",
    "% You should set the following variables correctly:\n",
    "%\n",
    "%        X_grad - num_movies x num_features matrix, containing the \n",
    "%                 partial derivatives w.r.t. to each element of X\n",
    "%        Theta_grad - num_users x num_features matrix, containing the \n",
    "%                     partial derivatives w.r.t. to each element of Theta\n",
    "%\n",
    "%size_R = size(R);\n",
    "%size_X = size(X)\n",
    "%size_Theta = size(Theta)\n",
    "%size_Y = size(Y);\n",
    "\n",
    "\n",
    "J =  1/2 * sum(sum(R.*( (X* Theta') - Y).^2)) + \\\n",
    "    lambda/2 *(sum(sum(Theta.^2))  + sum(sum( X.^2)) );\n",
    "\n",
    "% size_grad should be...n_m n_u\n",
    "% grad = (movies x users)\n",
    "% X*Theta' is (movies x users) how much each user should like a each movie \n",
    "% according the feature profile of the movie (X) and \n",
    "% the feature profile of the user (Theta)\n",
    "\n",
    "% we compare the putative relationship with the actual \n",
    "% and set to zero those which have not been seen \n",
    "grad =  R.*(X*Theta'-Y);\n",
    "%size_grad = size(grad)\n",
    "\n",
    "% grad_rep = (movies x users x features)\n",
    "grad_rep = repmat(grad,1,1,num_features);\n",
    "%size_grad_rep = size(grad_rep)\n",
    "\n",
    "% Theta = (users x features)\n",
    "% grad_rep = (movies x users x features)\n",
    "\n",
    "% X_grad = (movies x features) - what we want\n",
    "% sum over users\n",
    "X_grad = sum( permute(grad_rep,[2,3,1]) .* Theta, axis=1) ;\n",
    "%size_Xgrad = size(X_grad)\n",
    "X_grad = squeeze(X_grad)' .+ lambda .* X;\n",
    "\n",
    "% X = (movies x features)\n",
    "% grad_rep = (movies x users x features)\n",
    "% Theta_grad = (users x features) - what we want\n",
    "% sum over movies\n",
    "Theta_grad = sum( permute(grad_rep,[1,3,2]) .* X, axis=1);\n",
    "Theta_grad = squeeze(Theta_grad)' .+ lambda .* Theta;\n",
    "%size_Theta_grad  = size(Theta_grad )\n",
    "% =============================================================\n",
    "\n",
    "grad = [X_grad(:); Theta_grad(:)];\n",
    "\n",
    "end\n"
   ]
  },
  {
   "cell_type": "code",
   "execution_count": 28,
   "metadata": {
    "collapsed": false
   },
   "outputs": [],
   "source": [
    " n_u = 3; n_m = 4; n = 5;\n",
    "  X = reshape(sin(1:n_m*n), n_m, n);\n",
    "  Theta = reshape(cos(1:n_u*n), n_u, n);\n",
    "  Y = reshape(sin(1:2:2*n_m*n_u), n_m, n_u);\n",
    "  R = Y > 0.5;\n",
    "  pval = [abs(Y(:)) ; 0.001; 1];\n",
    "  yval = [R(:) ; 1; 0];\n",
    "  params = [X(:); Theta(:)];\n",
    "%[mu,sigma2] =  estimateGaussian(X) \n",
    "%(n_m -1)/n_m * var(X);\n",
    "%selectThreshold(yval,pval)\n",
    "cofiCostFunc(params, Y, R, n_u, n_m, ...\n",
    "                       n, 0);"
   ]
  }
 ],
 "metadata": {
  "kernelspec": {
   "display_name": "Octave",
   "language": "octave",
   "name": "octave_kernel"
  },
  "language_info": {
   "codemirror_mode": "Octave",
   "file_extension": ".m",
   "help_links": [
    {
     "text": "MetaKernel Magics",
     "url": "https://github.com/calysto/metakernel/blob/master/metakernel/magics/README.md"
    }
   ],
   "mimetype": "text/x-octave",
   "name": "octave_kernel"
  }
 },
 "nbformat": 4,
 "nbformat_minor": 0
}
