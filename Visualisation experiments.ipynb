{
 "cells": [
  {
   "cell_type": "markdown",
   "metadata": {},
   "source": [
    "# Visualisation stuff\n",
    "\n",
    "great resource: http://jeffskinnerbox.me/notebooks/ipython's-rich-display-system.html\n",
    "\n",
    "also look at: http://localhost:8888/notebooks/python/Bioinformatics/Bioinformatics%20II.ipynb \n",
    "for graphing stuff"
   ]
  },
  {
   "cell_type": "code",
   "execution_count": 8,
   "metadata": {
    "collapsed": false
   },
   "outputs": [
    {
     "data": {
      "text/html": [
       "<a href=\"http://example.com\">link</a>"
      ],
      "text/plain": [
       "<IPython.core.display.HTML object>"
      ]
     },
     "execution_count": 8,
     "metadata": {},
     "output_type": "execute_result"
    }
   ],
   "source": [
    "from IPython.display import HTML\n",
    "HTML('<a href=\"http://example.com\">link</a>')"
   ]
  },
  {
   "cell_type": "code",
   "execution_count": 6,
   "metadata": {
    "collapsed": true
   },
   "outputs": [],
   "source": [
    "html_string = \"\"\"<div id=\"d3-example\"></div>\n",
    "<style>\n",
    "\n",
    "path.link {\n",
    "  fill: none;\n",
    "  stroke: #666;\n",
    "  stroke-width: 1.5px;\n",
    "}\n",
    ".node text {\n",
    "    \n",
    "\n",
    "font-family: sans-serif;\n",
    "font-size: 10px;\n",
    "font-stretch: normal;\n",
    "font-style: normal;\n",
    "font-variant: normal;\n",
    "font-weight: normal;\n",
    "     }\n",
    "line.node {stroke: #fff;  }\n",
    "\n",
    "</style>\"\"\""
   ]
  },
  {
   "cell_type": "code",
   "execution_count": 7,
   "metadata": {
    "collapsed": false
   },
   "outputs": [
    {
     "data": {
      "text/html": [
       "<div id=\"d3-example\"></div>\n",
       "<style>\n",
       "\n",
       "path.link {\n",
       "  fill: none;\n",
       "  stroke: #666;\n",
       "  stroke-width: 1.5px;\n",
       "}\n",
       ".node text {\n",
       "    \n",
       "\n",
       "font-family: sans-serif;\n",
       "font-size: 10px;\n",
       "font-stretch: normal;\n",
       "font-style: normal;\n",
       "font-variant: normal;\n",
       "font-weight: normal;\n",
       "     }\n",
       "line.node {stroke: #fff;  }\n",
       "\n",
       "</style>"
      ],
      "text/plain": [
       "<IPython.core.display.HTML object>"
      ]
     },
     "execution_count": 7,
     "metadata": {},
     "output_type": "execute_result"
    }
   ],
   "source": [
    "HTML(html_string)"
   ]
  },
  {
   "cell_type": "code",
   "execution_count": 16,
   "metadata": {
    "collapsed": true
   },
   "outputs": [],
   "source": [
    "js_string = \"\"\"\n",
    "// We load the d3.js library from the Web.\n",
    "require.config({paths: {d3: \"http://d3js.org/d3.v3.min\"}});\n",
    "require([\"d3\"], function(d3) {\n",
    "    // The code in this block is executed when the \n",
    "    // d3.js library has been loaded.\n",
    "    \n",
    "    // First, we specify the size of the canvas containing\n",
    "    // the visualization (size of the <div> element).\n",
    "    var width = 600,\n",
    "        height = 800;\n",
    "\n",
    "    // We create a color scale.\n",
    "    var color = d3.scale.category10();\n",
    "\n",
    "    // We create a force-directed dynamic graph layout.\n",
    "    var force = d3.layout.force()\n",
    "        .charge(-600) // repulsive charge between particles\n",
    "        .linkDistance(20)\n",
    "        .size([width, height]);\n",
    "\n",
    "    // In the <div> element, we create a <svg> graphic\n",
    "    // that will contain our interactive visualization.\n",
    "    var svg = d3.select(\"#d3-example\").select(\"svg\")\n",
    "    svg.remove();\n",
    "    if (svg.empty()) {\n",
    "        svg = d3.select(\"#d3-example\").append(\"svg\")\n",
    "                    .attr(\"width\", width)\n",
    "                    .attr(\"height\", height);\n",
    "    }\n",
    "      \n",
    "    // Per-type markers, as they don't inherit styles.\n",
    "svg.append(\"svg:defs\").selectAll(\"marker\")\n",
    "    .data([\"suit\", \"licensing\", \"resolved\"])\n",
    "  .enter().append(\"svg:marker\")\n",
    "    .attr(\"id\", String)\n",
    "    .attr(\"viewBox\", \"0 -5 10 10\")\n",
    "    .attr(\"refX\", 15)\n",
    "    .attr(\"refY\", -1.5)\n",
    "    .attr(\"markerWidth\", 6)\n",
    "    .attr(\"markerHeight\", 6)\n",
    "    .attr(\"orient\", \"auto\")\n",
    "  .append(\"svg:path\")\n",
    "    .attr(\"d\", \"M0,-5L10,0L0,5\");\n",
    "\n",
    "    \n",
    "    \n",
    "    // We load the JSON file.\n",
    "    d3.json(\"graph.json\", function(error, graph) {\n",
    "        // In this block, the file has been loaded\n",
    "        // and the 'graph' object contains our graph.\n",
    "\n",
    "        \n",
    "        // add a linknum var to links (this should just work..)\n",
    "        for (var i = 0; i < graph.links.length; i++) {\n",
    "            if (i != 0 &&\n",
    "                graph.links[i].source == graph.links[i-1].source &&\n",
    "                graph.links[i].target == graph.links[i-1].target) {\n",
    "                    graph.links[i].linknum = graph.links[i-1].linknum + 1;\n",
    "                }\n",
    "            else {\n",
    "                 graph.links[i].linknum = 1;};\n",
    "        };\n",
    "        \n",
    "        // We load the nodes and links in the force-directed\n",
    "        // graph.\n",
    "        force.nodes(graph.nodes)\n",
    "            .links(graph.links)\n",
    "            .start();\n",
    "\n",
    "\n",
    "        var link = svg.selectAll(\".link\")\n",
    "            .data(graph.links)\n",
    "            .enter().append(\"path\")\n",
    "            .attr(\"class\", function(d) { return \"link\"; })\n",
    "            .attr(\"marker-end\", function(d) { return \"url(#\" + \"suit\" + \")\"; });\n",
    "        \n",
    "        // We create a <g> SVG element for each node\n",
    "        // in the graph, and we specify a few attributes.\n",
    "        var node = svg.selectAll(\".node\")\n",
    "            .data(graph.nodes)\n",
    "            .enter().append(\"g\") \n",
    "            .attr(\"class\", \"node\")\n",
    "            .call(force.drag);\n",
    "        \n",
    "        node.append(\"circle\")\n",
    "            .attr(\"r\", 5)  // radius\n",
    "            .style(\"fill\", \"red\" );\n",
    "        \n",
    "        // The name of each node is the node number.\n",
    "        node.append(\"text\") // was \"title\"\n",
    "            .text(function(d) { return d.id; }) //  d.id\n",
    "            .attr(\"color\", \"black\")\n",
    "            .attr(\"dx\", 12)\n",
    "            .attr(\"dy\", \".35em\");\n",
    "        \n",
    "\n",
    "        // We bind the positions of the SVG elements\n",
    "        // to the positions of the dynamic force-directed graph,\n",
    "        // at each time step.\n",
    "        force.on(\"tick\", function() {\n",
    "            \n",
    "            link.attr(\"d\", function(d) {\n",
    "                var dx = d.target.x - d.source.x,\n",
    "                    dy = d.target.y - d.source.y,\n",
    "                    dr = 75/d.linknum;  //linknum is defined above\n",
    "                return \"M\" + d.source.x + \",\" + \n",
    "                    d.source.y + \"A\" + dr + \",\" + \n",
    "                    dr + \" 0 0,1 \" + d.target.x +\n",
    "                    \",\" + d.target.y;\n",
    "              });\n",
    " \n",
    "            node.attr(\"transform\", function(d) { \n",
    "                return \"translate(\" + d.x + \",\" + d.y + \")\"; \n",
    "            });\n",
    "        });\n",
    "    });\n",
    "});\"\"\""
   ]
  },
  {
   "cell_type": "code",
   "execution_count": 14,
   "metadata": {
    "collapsed": false
   },
   "outputs": [],
   "source": [
    "from IPython.display import Javascript"
   ]
  },
  {
   "cell_type": "code",
   "execution_count": 20,
   "metadata": {
    "collapsed": false
   },
   "outputs": [
    {
     "data": {
      "application/javascript": [
       "\n",
       "// We load the d3.js library from the Web.\n",
       "require.config({paths: {d3: \"http://d3js.org/d3.v3.min\"}});\n",
       "require([\"d3\"], function(d3) {\n",
       "    // The code in this block is executed when the \n",
       "    // d3.js library has been loaded.\n",
       "    \n",
       "    // First, we specify the size of the canvas containing\n",
       "    // the visualization (size of the <div> element).\n",
       "    var width = 600,\n",
       "        height = 800;\n",
       "\n",
       "    // We create a color scale.\n",
       "    var color = d3.scale.category10();\n",
       "\n",
       "    // We create a force-directed dynamic graph layout.\n",
       "    var force = d3.layout.force()\n",
       "        .charge(-600) // repulsive charge between particles\n",
       "        .linkDistance(20)\n",
       "        .size([width, height]);\n",
       "\n",
       "    // In the <div> element, we create a <svg> graphic\n",
       "    // that will contain our interactive visualization.\n",
       "    var svg = d3.select(\"#d3-example\").select(\"svg\")\n",
       "    svg.remove();\n",
       "    if (svg.empty()) {\n",
       "        svg = d3.select(\"#d3-example\").append(\"svg\")\n",
       "                    .attr(\"width\", width)\n",
       "                    .attr(\"height\", height);\n",
       "    }\n",
       "      \n",
       "    // Per-type markers, as they don't inherit styles.\n",
       "svg.append(\"svg:defs\").selectAll(\"marker\")\n",
       "    .data([\"suit\", \"licensing\", \"resolved\"])\n",
       "  .enter().append(\"svg:marker\")\n",
       "    .attr(\"id\", String)\n",
       "    .attr(\"viewBox\", \"0 -5 10 10\")\n",
       "    .attr(\"refX\", 15)\n",
       "    .attr(\"refY\", -1.5)\n",
       "    .attr(\"markerWidth\", 6)\n",
       "    .attr(\"markerHeight\", 6)\n",
       "    .attr(\"orient\", \"auto\")\n",
       "  .append(\"svg:path\")\n",
       "    .attr(\"d\", \"M0,-5L10,0L0,5\");\n",
       "\n",
       "    \n",
       "    \n",
       "    // We load the JSON file.\n",
       "    d3.json(\"graph.json\", function(error, graph) {\n",
       "        // In this block, the file has been loaded\n",
       "        // and the 'graph' object contains our graph.\n",
       "\n",
       "        \n",
       "        // add a linknum var to links (this should just work..)\n",
       "        for (var i = 0; i < graph.links.length; i++) {\n",
       "            if (i != 0 &&\n",
       "                graph.links[i].source == graph.links[i-1].source &&\n",
       "                graph.links[i].target == graph.links[i-1].target) {\n",
       "                    graph.links[i].linknum = graph.links[i-1].linknum + 1;\n",
       "                }\n",
       "            else {\n",
       "                 graph.links[i].linknum = 1;};\n",
       "        };\n",
       "        \n",
       "        // We load the nodes and links in the force-directed\n",
       "        // graph.\n",
       "        force.nodes(graph.nodes)\n",
       "            .links(graph.links)\n",
       "            .start();\n",
       "\n",
       "\n",
       "        var link = svg.selectAll(\".link\")\n",
       "            .data(graph.links)\n",
       "            .enter().append(\"path\")\n",
       "            .attr(\"class\", function(d) { return \"link\"; })\n",
       "            .attr(\"marker-end\", function(d) { return \"url(#\" + \"suit\" + \")\"; });\n",
       "        \n",
       "        // We create a <g> SVG element for each node\n",
       "        // in the graph, and we specify a few attributes.\n",
       "        var node = svg.selectAll(\".node\")\n",
       "            .data(graph.nodes)\n",
       "            .enter().append(\"g\") \n",
       "            .attr(\"class\", \"node\")\n",
       "            .call(force.drag);\n",
       "        \n",
       "        node.append(\"circle\")\n",
       "            .attr(\"r\", 5)  // radius\n",
       "            .style(\"fill\", \"red\" );\n",
       "        \n",
       "        // The name of each node is the node number.\n",
       "        node.append(\"text\") // was \"title\"\n",
       "            .text(function(d) { return d.id; }) //  d.id\n",
       "            .attr(\"color\", \"black\")\n",
       "            .attr(\"dx\", 12)\n",
       "            .attr(\"dy\", \".35em\");\n",
       "        \n",
       "\n",
       "        // We bind the positions of the SVG elements\n",
       "        // to the positions of the dynamic force-directed graph,\n",
       "        // at each time step.\n",
       "        force.on(\"tick\", function() {\n",
       "            \n",
       "            link.attr(\"d\", function(d) {\n",
       "                var dx = d.target.x - d.source.x,\n",
       "                    dy = d.target.y - d.source.y,\n",
       "                    dr = 75/d.linknum;  //linknum is defined above\n",
       "                return \"M\" + d.source.x + \",\" + \n",
       "                    d.source.y + \"A\" + dr + \",\" + \n",
       "                    dr + \" 0 0,1 \" + d.target.x +\n",
       "                    \",\" + d.target.y;\n",
       "              });\n",
       " \n",
       "            node.attr(\"transform\", function(d) { \n",
       "                return \"translate(\" + d.x + \",\" + d.y + \")\"; \n",
       "            });\n",
       "        });\n",
       "    });\n",
       "});"
      ],
      "text/plain": [
       "<IPython.core.display.Javascript object>"
      ]
     },
     "execution_count": 20,
     "metadata": {},
     "output_type": "execute_result"
    }
   ],
   "source": [
    "Javascript(js_string)"
   ]
  },
  {
   "cell_type": "code",
   "execution_count": 23,
   "metadata": {
    "collapsed": false
   },
   "outputs": [],
   "source": [
    "!cd /Users/jlatmann/Programming/python/Bioinformatics/"
   ]
  },
  {
   "cell_type": "code",
   "execution_count": 24,
   "metadata": {
    "collapsed": false
   },
   "outputs": [
    {
     "name": "stdout",
     "output_type": "stream",
     "text": [
      "/Users/jlatmann/Programming/octave\r\n"
     ]
    }
   ],
   "source": [
    "!pwd"
   ]
  },
  {
   "cell_type": "code",
   "execution_count": null,
   "metadata": {
    "collapsed": true
   },
   "outputs": [],
   "source": [
    "!cp Visualisation\\ experiments.ipynb /Users/jlatmann/Programming/p"
   ]
  }
 ],
 "metadata": {
  "kernelspec": {
   "display_name": "Python 3",
   "language": "python",
   "name": "python3"
  },
  "language_info": {
   "codemirror_mode": {
    "name": "ipython",
    "version": 3
   },
   "file_extension": ".py",
   "mimetype": "text/x-python",
   "name": "python",
   "nbconvert_exporter": "python",
   "pygments_lexer": "ipython3",
   "version": "3.5.1"
  }
 },
 "nbformat": 4,
 "nbformat_minor": 0
}
