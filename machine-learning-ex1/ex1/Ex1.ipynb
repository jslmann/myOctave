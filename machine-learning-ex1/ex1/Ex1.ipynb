{
 "cells": [
  {
   "cell_type": "code",
   "execution_count": 1,
   "metadata": {
    "collapsed": true
   },
   "outputs": [],
   "source": [
    "%load 'warmUpExercise.m'"
   ]
  },
  {
   "cell_type": "code",
   "execution_count": null,
   "metadata": {
    "collapsed": true
   },
   "outputs": [],
   "source": [
    "function A = warmUpExercise()\n",
    "%WARMUPEXERCISE Example function in octave\n",
    "%   A = WARMUPEXERCISE() is an example function that returns the 5x5 identity matrix\n",
    "\n",
    "A = [];\n",
    "% ============= YOUR CODE HERE ==============\n",
    "% Instructions: Return the 5x5 identity matrix\n",
    "%               In octave, we return values by defining which variables\n",
    "%               represent the return values (at the top of the file)\n",
    "%               and then set them accordingly.\n",
    "A = eye(5)\n",
    "\n",
    "\n",
    "\n",
    "\n",
    "\n",
    "\n",
    "% ===========================================\n",
    "\n",
    "\n",
    "end\n"
   ]
  },
  {
   "cell_type": "code",
   "execution_count": 2,
   "metadata": {
    "collapsed": false
   },
   "outputs": [
    {
     "data": {
      "text/plain": [
       "error: 'A' undefined near line 1 column 1\r\n"
      ]
     },
     "execution_count": 2,
     "metadata": {},
     "output_type": "execute_result"
    }
   ],
   "source": [
    "A"
   ]
  },
  {
   "cell_type": "code",
   "execution_count": 3,
   "metadata": {
    "collapsed": false
   },
   "outputs": [
    {
     "data": {
      "text/plain": [
       "A =\r\n",
       "\r\n",
       "Diagonal Matrix\r\n",
       "\r\n",
       "   1   0   0   0   0\r\n",
       "   0   1   0   0   0\r\n",
       "   0   0   1   0   0\r\n",
       "   0   0   0   1   0\r\n",
       "   0   0   0   0   1\r\n",
       "\r\n",
       "ans =\r\n",
       "\r\n",
       "Diagonal Matrix\r\n",
       "\r\n",
       "   1   0   0   0   0\r\n",
       "   0   1   0   0   0\r\n",
       "   0   0   1   0   0\r\n",
       "   0   0   0   1   0\r\n",
       "   0   0   0   0   1\r\n",
       "\r\n"
      ]
     },
     "execution_count": 3,
     "metadata": {},
     "output_type": "execute_result"
    }
   ],
   "source": [
    "warmUpExercise()"
   ]
  },
  {
   "cell_type": "code",
   "execution_count": 95,
   "metadata": {
    "collapsed": true
   },
   "outputs": [],
   "source": [
    "%load 'computeCost.m'\n"
   ]
  },
  {
   "cell_type": "code",
   "execution_count": 97,
   "metadata": {
    "collapsed": true
   },
   "outputs": [],
   "source": [
    "function J = computeCost(X, y, theta)\n",
    "%COMPUTECOST Compute cost for linear regression\n",
    "%   J = COMPUTECOST(X, y, theta) computes the cost of using theta as the\n",
    "%   parameter for linear regression to fit the data points in X and y\n",
    "\n",
    "% Initialize some useful values\n",
    "m = length(y); % number of training examples\n",
    "\n",
    "% You need to return the following variables correctly\n",
    "J = 0;\n",
    "\n",
    "% ====================== YOUR CODE HERE ======================\n",
    "% Instructions: Compute the cost of a particular choice of theta\n",
    "%               You should set J to the cost.\n",
    "\n",
    "\n",
    "J = sum((X*theta - y).^2)/2.0 / m;\n",
    "\n",
    "\n",
    "\n",
    "% =========================================================================\n",
    "\n",
    "end\n"
   ]
  },
  {
   "cell_type": "code",
   "execution_count": 98,
   "metadata": {
    "collapsed": false
   },
   "outputs": [
    {
     "data": {
      "text/plain": [
       "ans =  2044.6\r\n"
      ]
     },
     "execution_count": 98,
     "metadata": {},
     "output_type": "execute_result"
    }
   ],
   "source": [
    "computeCost(X,y,theta)"
   ]
  },
  {
   "cell_type": "code",
   "execution_count": 42,
   "metadata": {
    "collapsed": false
   },
   "outputs": [
    {
     "data": {
      "text/plain": [
       "error: Invalid call to disp.  Correct usage is:\r\n",
       "\r\n",
       " -- Built-in Function:  disp (X)\r\n",
       "\r\n",
       "Additional help for built-in functions and operators is\r\n",
       "available in the online version of the manual.  Use the command\r\n",
       "'doc <topic>' to search the manual index.\r\n",
       "\r\n",
       "Help and information about Octave is also available on the WWW\r\n",
       "at http://www.octave.org and via the help@octave.org\r\n",
       "mailing list.\r\n"
      ]
     },
     "execution_count": 42,
     "metadata": {},
     "output_type": "execute_result"
    }
   ],
   "source": [
    "disp('d', 55)"
   ]
  },
  {
   "cell_type": "code",
   "execution_count": 32,
   "metadata": {
    "collapsed": true
   },
   "outputs": [],
   "source": [
    "%reset"
   ]
  },
  {
   "cell_type": "code",
   "execution_count": 54,
   "metadata": {
    "collapsed": false
   },
   "outputs": [
    {
     "data": {
      "text/plain": [
       "error: horizontal dimensions mismatch (1x1 vs 5x1)\r\n"
      ]
     },
     "execution_count": 54,
     "metadata": {},
     "output_type": "execute_result"
    }
   ],
   "source": [
    "X = rand(5,1)], y=rand(), theta = rand(1,1)"
   ]
  },
  {
   "cell_type": "code",
   "execution_count": 30,
   "metadata": {
    "collapsed": false
   },
   "outputs": [
    {
     "data": {
      "text/plain": [
       "e =\r\n",
       "\r\n",
       "   0.3031063\r\n",
       "  -0.0748133\r\n",
       "   0.0721588\r\n",
       "   0.0025799\r\n",
       "   0.2352988\r\n",
       "\r\n",
       "cost =  0.079025\r\n"
      ]
     },
     "execution_count": 30,
     "metadata": {},
     "output_type": "execute_result"
    }
   ],
   "source": [
    "e = X*theta - y, cost = sum(e.^2)/2"
   ]
  },
  {
   "cell_type": "code",
   "execution_count": 3,
   "metadata": {
    "collapsed": false
   },
   "outputs": [
    {
     "data": {
      "text/plain": [
       "X =\r\n",
       "\r\n",
       "    1.0000    3.4572\r\n",
       "    1.0000    4.1961\r\n",
       "    1.0000    4.9350\r\n",
       "    1.0000    5.6739\r\n",
       "    1.0000    6.4128\r\n",
       "    1.0000    7.1517\r\n",
       "    1.0000    7.8906\r\n",
       "    1.0000    8.6295\r\n",
       "    1.0000    9.3684\r\n",
       "    1.0000   10.1073\r\n",
       "    1.0000   10.8462\r\n",
       "    1.0000   11.5851\r\n",
       "    1.0000   12.3241\r\n",
       "    1.0000   13.0630\r\n",
       "    1.0000   13.8019\r\n",
       "    1.0000   14.5408\r\n",
       "    1.0000   15.2797\r\n",
       "    1.0000   16.0186\r\n",
       "    1.0000   16.7575\r\n",
       "    1.0000   17.4964\r\n",
       "\r\n"
      ]
     },
     "execution_count": 3,
     "metadata": {},
     "output_type": "execute_result"
    }
   ],
   "source": [
    "X = [1.0000    3.4572\n",
    "    1.0000    4.1961\n",
    "    1.0000    4.9350\n",
    "    1.0000    5.6739\n",
    "    1.0000    6.4128\n",
    "    1.0000    7.1517\n",
    "    1.0000    7.8906\n",
    "    1.0000    8.6295\n",
    "    1.0000    9.3684\n",
    "    1.0000   10.1073\n",
    "    1.0000   10.8462\n",
    "    1.0000   11.5851\n",
    "    1.0000   12.3241\n",
    "    1.0000   13.0630\n",
    "    1.0000   13.8019\n",
    "    1.0000   14.5408\n",
    "    1.0000   15.2797\n",
    "    1.0000   16.0186\n",
    "    1.0000   16.7575\n",
    "    1.0000   17.4964]"
   ]
  },
  {
   "cell_type": "code",
   "execution_count": 59,
   "metadata": {
    "collapsed": true
   },
   "outputs": [
    {
     "data": {
      "text/plain": [
       "y =\r\n",
       "\r\n",
       "    3.3480\r\n",
       "    4.5439\r\n",
       "    5.9972\r\n",
       "    7.3354\r\n",
       "    8.2459\r\n",
       "    8.6391\r\n",
       "    8.6955\r\n",
       "    8.7709\r\n",
       "    9.2115\r\n",
       "   10.1728\r\n",
       "   11.5389\r\n",
       "   12.9826\r\n",
       "   14.1363\r\n",
       "   14.7836\r\n",
       "   14.9724\r\n",
       "   14.9895\r\n",
       "   15.2115\r\n",
       "   15.9079\r\n",
       "   17.1010\r\n",
       "   18.5538\r\n",
       "\r\n"
      ]
     },
     "execution_count": 59,
     "metadata": {},
     "output_type": "execute_result"
    }
   ],
   "source": [
    "y = [ \n",
    "3.3480\n",
    "    4.5439\n",
    "    5.9972\n",
    "    7.3354\n",
    "    8.2459\n",
    "    8.6391\n",
    "    8.6955\n",
    "    8.7709\n",
    "    9.2115\n",
    "   10.1728\n",
    "   11.5389\n",
    "   12.9826\n",
    "   14.1363\n",
    "   14.7836\n",
    "   14.9724\n",
    "   14.9895\n",
    "   15.2115\n",
    "   15.9079\n",
    "   17.1010\n",
    "   18.5538]"
   ]
  },
  {
   "cell_type": "code",
   "execution_count": 60,
   "metadata": {
    "collapsed": false
   },
   "outputs": [
    {
     "data": {
      "text/plain": [
       "theta =\r\n",
       "\r\n",
       "   5\r\n",
       "  -5\r\n",
       "\r\n"
      ]
     },
     "execution_count": 60,
     "metadata": {},
     "output_type": "execute_result"
    }
   ],
   "source": [
    "theta = [ 5.00; -5.0]"
   ]
  },
  {
   "cell_type": "code",
   "execution_count": 65,
   "metadata": {
    "collapsed": false
   },
   "outputs": [
    {
     "data": {
      "text/plain": [
       "ans =    4.0892e+04\r\n"
      ]
     },
     "execution_count": 65,
     "metadata": {},
     "output_type": "execute_result"
    }
   ],
   "source": [
    "sum((X*theta- y).^2)/2.0"
   ]
  },
  {
   "cell_type": "code",
   "execution_count": 111,
   "metadata": {
    "collapsed": true
   },
   "outputs": [],
   "source": [
    "%load 'gradientDescent.m'"
   ]
  },
  {
   "cell_type": "code",
   "execution_count": 114,
   "metadata": {
    "collapsed": true
   },
   "outputs": [],
   "source": [
    "function [theta, J_history] = gradientDescent(X, y, theta, alpha, num_iters)\n",
    "%GRADIENTDESCENT Performs gradient descent to learn theta\n",
    "%   theta = GRADIENTDESENT(X, y, theta, alpha, num_iters) updates theta by\n",
    "%   taking num_iters gradient steps with learning rate alpha\n",
    "\n",
    "% Initialize some useful values\n",
    "m = length(y); % number of training examples\n",
    "J_history = zeros(num_iters, 1);\n",
    "theta_t = zeros(size(theta))\n",
    "\n",
    "for iter = 1:num_iters\n",
    "\n",
    "    % ====================== YOUR CODE HERE ======================\n",
    "    % Instructions: Perform a single gradient step on the parameter vector\n",
    "    %               theta.\n",
    "    %\n",
    "    % Hint: While debugging, it can be useful to print out the values\n",
    "    %       of the cost function (computeCost) and gradient here.\n",
    "    %\n",
    "    pD = X' * (X*theta - y) /m;            % dJ/d(theta) size = (1, length(theta));\n",
    "\n",
    "    theta = theta - alpha * pD;\n",
    "\n",
    "\n",
    "\n",
    "\n",
    "\n",
    "\n",
    "\n",
    "    % ============================================================\n",
    "\n",
    "    % Save the cost J in every iteration\n",
    "    J_history(iter) = computeCost(X, y, theta)\n",
    "\n",
    "end\n",
    "\n",
    "end\n"
   ]
  },
  {
   "cell_type": "code",
   "execution_count": 116,
   "metadata": {
    "collapsed": false
   },
   "outputs": [
    {
     "data": {
      "text/plain": [
       "theta_t =\r\n",
       "\r\n",
       "   0\r\n",
       "   0\r\n",
       "\r\n",
       "J_history =\r\n",
       "\r\n",
       "   170.84496\r\n",
       "     0.00000\r\n",
       "     0.00000\r\n",
       "     0.00000\r\n",
       "     0.00000\r\n",
       "     0.00000\r\n",
       "     0.00000\r\n",
       "     0.00000\r\n",
       "     0.00000\r\n",
       "     0.00000\r\n",
       "\r\n",
       "J_history =\r\n",
       "\r\n",
       "   170.84496\r\n",
       "    15.68124\r\n",
       "     0.00000\r\n",
       "     0.00000\r\n",
       "     0.00000\r\n",
       "     0.00000\r\n",
       "     0.00000\r\n",
       "     0.00000\r\n",
       "     0.00000\r\n",
       "     0.00000\r\n",
       "\r\n",
       "J_history =\r\n",
       "\r\n",
       "   170.84496\r\n",
       "    15.68124\r\n",
       "     2.82897\r\n",
       "     0.00000\r\n",
       "     0.00000\r\n",
       "     0.00000\r\n",
       "     0.00000\r\n",
       "     0.00000\r\n",
       "     0.00000\r\n",
       "     0.00000\r\n",
       "\r\n",
       "J_history =\r\n",
       "\r\n",
       "   170.84496\r\n",
       "    15.68124\r\n",
       "     2.82897\r\n",
       "     1.76102\r\n",
       "     0.00000\r\n",
       "     0.00000\r\n",
       "     0.00000\r\n",
       "     0.00000\r\n",
       "     0.00000\r\n",
       "     0.00000\r\n",
       "\r\n",
       "J_history =\r\n",
       "\r\n",
       "   170.84496\r\n",
       "    15.68124\r\n",
       "     2.82897\r\n",
       "     1.76102\r\n",
       "     1.66890\r\n",
       "     0.00000\r\n",
       "     0.00000\r\n",
       "     0.00000\r\n",
       "     0.00000\r\n",
       "     0.00000\r\n",
       "\r\n",
       "J_history =\r\n",
       "\r\n",
       "   170.84496\r\n",
       "    15.68124\r\n",
       "     2.82897\r\n",
       "     1.76102\r\n",
       "     1.66890\r\n",
       "     1.65759\r\n",
       "     0.00000\r\n",
       "     0.00000\r\n",
       "     0.00000\r\n",
       "     0.00000\r\n",
       "\r\n",
       "J_history =\r\n",
       "\r\n",
       "   170.84496\r\n",
       "    15.68124\r\n",
       "     2.82897\r\n",
       "     1.76102\r\n",
       "     1.66890\r\n",
       "     1.65759\r\n",
       "     1.65299\r\n",
       "     0.00000\r\n",
       "     0.00000\r\n",
       "     0.00000\r\n",
       "\r\n",
       "J_history =\r\n",
       "\r\n",
       "   170.84496\r\n",
       "    15.68124\r\n",
       "     2.82897\r\n",
       "     1.76102\r\n",
       "     1.66890\r\n",
       "     1.65759\r\n",
       "     1.65299\r\n",
       "     1.64896\r\n",
       "     0.00000\r\n",
       "     0.00000\r\n",
       "\r\n",
       "J_history =\r\n",
       "\r\n",
       "   170.84496\r\n",
       "    15.68124\r\n",
       "     2.82897\r\n",
       "     1.76102\r\n",
       "     1.66890\r\n",
       "     1.65759\r\n",
       "     1.65299\r\n",
       "     1.64896\r\n",
       "     1.64498\r\n",
       "     0.00000\r\n",
       "\r\n",
       "J_history =\r\n",
       "\r\n",
       "   170.8450\r\n",
       "    15.6812\r\n",
       "     2.8290\r\n",
       "     1.7610\r\n",
       "     1.6689\r\n",
       "     1.6576\r\n",
       "     1.6530\r\n",
       "     1.6490\r\n",
       "     1.6450\r\n",
       "     1.6410\r\n",
       "\r\n",
       "a =\r\n",
       "\r\n",
       "   5.39714\r\n",
       "   0.61911\r\n",
       "\r\n",
       "b =\r\n",
       "\r\n",
       "   170.8450\r\n",
       "    15.6812\r\n",
       "     2.8290\r\n",
       "     1.7610\r\n",
       "     1.6689\r\n",
       "     1.6576\r\n",
       "     1.6530\r\n",
       "     1.6490\r\n",
       "     1.6450\r\n",
       "     1.6410\r\n",
       "\r\n"
      ]
     },
     "execution_count": 116,
     "metadata": {},
     "output_type": "execute_result"
    }
   ],
   "source": [
    "[a,b] = gradientDescent(X,y,theta,0.01,10)"
   ]
  },
  {
   "cell_type": "code",
   "execution_count": 117,
   "metadata": {
    "collapsed": false
   },
   "outputs": [
    {
     "data": {
      "text/plain": [
       "ans =\r\n",
       "\r\n",
       "    1.0000   10.4768\r\n",
       "\r\n"
      ]
     },
     "execution_count": 117,
     "metadata": {},
     "output_type": "execute_result"
    }
   ],
   "source": [
    "mean(X)"
   ]
  },
  {
   "cell_type": "code",
   "execution_count": 119,
   "metadata": {
    "collapsed": false
   },
   "outputs": [
    {
     "data": {
      "text/plain": [
       "ans =\r\n",
       "\r\n",
       "    0.00000   19.10944\r\n",
       "\r\n"
      ]
     },
     "execution_count": 119,
     "metadata": {},
     "output_type": "execute_result"
    }
   ],
   "source": [
    "var(X)"
   ]
  },
  {
   "cell_type": "code",
   "execution_count": 120,
   "metadata": {
    "collapsed": true
   },
   "outputs": [],
   "source": [
    "%load 'featureNormalize.m'"
   ]
  },
  {
   "cell_type": "code",
   "execution_count": 34,
   "metadata": {
    "collapsed": true
   },
   "outputs": [],
   "source": [
    "function [X_norm, mu, sigma] = featureNormalize(X)\n",
    "%FEATURENORMALIZE Normalizes the features in X\n",
    "%   FEATURENORMALIZE(X) returns a normalized version of X where\n",
    "%   the mean value of each feature is 0 and the standard deviation\n",
    "%   is 1. This is often a good preprocessing step to do when\n",
    "%   working with learning algorithms.\n",
    "\n",
    "% You need to set these values correctly\n",
    "X_norm = X;\n",
    "mu = zeros(1, size(X, 2));\n",
    "sigma = zeros(1, size(X, 2));\n",
    "\n",
    "% ====================== YOUR CODE HERE ======================\n",
    "% Instructions: First, for each feature dimension, compute the mean\n",
    "%               of the feature and subtract it from the dataset,\n",
    "%               storing the mean value in mu. Next, compute the\n",
    "%               standard deviation of each feature and divide\n",
    "%               each feature by it's standard deviation, storing\n",
    "%               the standard deviation in sigma.\n",
    "%\n",
    "%               Note that X is a matrix where each column is a\n",
    "%               feature and each row is an example. You need\n",
    "%               to perform the normalization separately for\n",
    "%               each feature.\n",
    "%\n",
    "% Hint: You might find the 'mean' and 'std' functions useful.\n",
    "%\n",
    "nFeatures = size(X,2);\n",
    "mu = mean(X(:,2:nFeatures));\n",
    "sigma = std(X(:,2:nFeatures));\n",
    "\n",
    "X_norm(:,2:nFeatures) = (X(:,2:nFeatures) .- mu) ./ sigma;\n",
    "\n",
    "\n",
    "\n",
    "\n",
    "\n",
    "\n",
    "\n",
    "\n",
    "% ============================================================\n",
    "\n",
    "end\n"
   ]
  },
  {
   "cell_type": "code",
   "execution_count": 40,
   "metadata": {
    "collapsed": false
   },
   "outputs": [
    {
     "data": {
      "text/plain": [
       "nFeatures =  3\r\n",
       "mu =\r\n",
       "\r\n",
       "    10.477   127.917\r\n",
       "\r\n",
       "sigma =\r\n",
       "\r\n",
       "    4.3714   93.0887\r\n",
       "\r\n",
       "r =\r\n",
       "\r\n",
       "   1.000000  -1.605787  -1.245746\r\n",
       "   1.000000  -1.436757  -1.184997\r\n",
       "   1.000000  -1.267728  -1.112518\r\n",
       "   1.000000  -1.098699  -1.028309\r\n",
       "   1.000000  -0.929670  -0.932370\r\n",
       "   1.000000  -0.760641  -0.824700\r\n",
       "   1.000000  -0.591611  -0.705301\r\n",
       "   1.000000  -0.422582  -0.574171\r\n",
       "   1.000000  -0.253553  -0.431311\r\n",
       "   1.000000  -0.084524  -0.276721\r\n",
       "   1.000000   0.084505  -0.110400\r\n",
       "   1.000000   0.253535   0.067650\r\n",
       "   1.000000   0.422587   0.257457\r\n",
       "   1.000000   0.591616   0.458969\r\n",
       "   1.000000   0.760645   0.672212\r\n",
       "   1.000000   0.929674   0.897185\r\n",
       "   1.000000   1.098704   1.133888\r\n",
       "   1.000000   1.267733   1.382321\r\n",
       "   1.000000   1.436762   1.642484\r\n",
       "   1.000000   1.605791   1.914377\r\n",
       "\r\n"
      ]
     },
     "execution_count": 40,
     "metadata": {},
     "output_type": "execute_result"
    }
   ],
   "source": [
    "r = featureNormalize( ([X,X(:,2).^2]) )"
   ]
  },
  {
   "cell_type": "code",
   "execution_count": 41,
   "metadata": {
    "collapsed": false
   },
   "outputs": [
    {
     "data": {
      "text/plain": [
       "ans =\r\n",
       "\r\n",
       "   1.0000e+00   5.1070e-16  -2.1094e-16\r\n",
       "\r\n"
      ]
     },
     "execution_count": 41,
     "metadata": {},
     "output_type": "execute_result"
    }
   ],
   "source": [
    "mean(r)"
   ]
  },
  {
   "cell_type": "code",
   "execution_count": 42,
   "metadata": {
    "collapsed": false
   },
   "outputs": [
    {
     "data": {
      "text/plain": [
       "ans =\r\n",
       "\r\n",
       "   0.00000   1.00000   1.00000\r\n",
       "\r\n"
      ]
     },
     "execution_count": 42,
     "metadata": {},
     "output_type": "execute_result"
    }
   ],
   "source": [
    "std(r)"
   ]
  },
  {
   "cell_type": "code",
   "execution_count": null,
   "metadata": {
    "collapsed": true
   },
   "outputs": [],
   "source": []
  }
 ],
 "metadata": {
  "kernelspec": {
   "display_name": "Octave",
   "language": "octave",
   "name": "octave_kernel"
  },
  "language_info": {
   "codemirror_mode": "Octave",
   "file_extension": ".m",
   "help_links": [
    {
     "text": "MetaKernel Magics",
     "url": "https://github.com/calysto/metakernel/blob/master/metakernel/magics/README.md"
    }
   ],
   "mimetype": "text/x-octave",
   "name": "octave_kernel"
  }
 },
 "nbformat": 4,
 "nbformat_minor": 0
}
